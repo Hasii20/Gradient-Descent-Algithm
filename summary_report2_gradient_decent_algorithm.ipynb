{
 "cells": [
  {
   "cell_type": "code",
   "execution_count": 1,
   "id": "e2229cfe",
   "metadata": {},
   "outputs": [],
   "source": [
    "import numpy as np\n",
    "import matplotlib.pyplot as plt\n",
    "import pandas as pd"
   ]
  },
  {
   "cell_type": "code",
   "execution_count": 2,
   "id": "96d794f8",
   "metadata": {},
   "outputs": [],
   "source": [
    "# simulate dataset\n",
    "np.random.seed(0)\n",
    "\n",
    "# Generate random features and labels with noise\n",
    "x = 2 * np.random.rand(100, 1) - 1  # Features between -1 and 1\n",
    "y = (x[:, 0] > 0).astype(int).reshape(-1, 1)  # Labels: 1 if x > 0 else 0, reshaped to (100, 1)\n",
    "# Add noise to the labels\n",
    "noise = np.random.rand(100, 1) < 0.1  # 10% noise\n",
    "y = np.logical_xor(y, noise).astype(int)"
   ]
  },
  {
   "cell_type": "code",
   "execution_count": 3,
   "id": "2f3cb8df",
   "metadata": {},
   "outputs": [],
   "source": [
    "# Sigmoid function\n",
    "def sigmoid(z):\n",
    "    return 1 / (1 + np.exp(-z))"
   ]
  },
  {
   "cell_type": "code",
   "execution_count": 4,
   "id": "2fb01559",
   "metadata": {},
   "outputs": [],
   "source": [
    "# Logistic regression model using gradient descent\n",
    "def model(x, y, learning_rate, iterations):\n",
    "    m = x.shape[0]\n",
    "    n = x.shape[1]\n",
    "\n",
    "    w = np.zeros((n, 1))\n",
    "    B = 0\n",
    "    cost_list = []\n",
    "\n",
    "    for i in range(iterations):\n",
    "        z = np.dot(x, w) + B\n",
    "        A = sigmoid(z)\n",
    "        \n",
    "        # Avoid division by zero in cost calculation\n",
    "        epsilon = 1e-5\n",
    "        cost = -(1 / m) * np.sum(y * np.log(A + epsilon) + (1 - y) * np.log(1 - A + epsilon))\n",
    "        \n",
    "        dw = (1 / m) * np.dot(x.T, (A - y))\n",
    "        dB = (1 / m) * np.sum(A - y)\n",
    "\n",
    "        w = w - learning_rate * dw\n",
    "        B = B - learning_rate * dB\n",
    "\n",
    "        cost_list.append(cost)\n",
    "\n",
    "        if i % (iterations // 10) == 0:\n",
    "            print(f\"Cost after iteration {i}: {cost}\")\n",
    "\n",
    "    return w, B, cost_list\n"
   ]
  },
  {
   "cell_type": "code",
   "execution_count": 5,
   "id": "a98f96c1",
   "metadata": {},
   "outputs": [],
   "source": [
    "# Parameters for gradient descent\n",
    "iterations = 10000\n",
    "learning_rate = 0.001"
   ]
  },
  {
   "cell_type": "code",
   "execution_count": 6,
   "id": "efabb0a4",
   "metadata": {},
   "outputs": [
    {
     "name": "stdout",
     "output_type": "stream",
     "text": [
      "Cost after iteration 0: 0.6931271807599428\n",
      "Cost after iteration 1000: 0.6508425985788299\n",
      "Cost after iteration 2000: 0.6150227667338451\n",
      "Cost after iteration 3000: 0.5845817164064687\n",
      "Cost after iteration 4000: 0.5586004455015009\n",
      "Cost after iteration 5000: 0.5363150863079478\n",
      "Cost after iteration 6000: 0.5170976554016881\n",
      "Cost after iteration 7000: 0.500434937685761\n",
      "Cost after iteration 8000: 0.48590847585910013\n",
      "Cost after iteration 9000: 0.4731769769066852\n"
     ]
    }
   ],
   "source": [
    "# Train the model\n",
    "w, B, cost_list = model(x, y, learning_rate, iterations)"
   ]
  },
  {
   "cell_type": "code",
   "execution_count": 7,
   "id": "c5872878",
   "metadata": {},
   "outputs": [
    {
     "data": {
      "image/png": "[encoded data removed]",
      "text/plain": [
       "<Figure size 640x480 with 1 Axes>"
      ]
     },
     "metadata": {},
     "output_type": "display_data"
    }
   ],
   "source": [
    "# Plot the cost function over iterations\n",
    "plt.plot(range(iterations), cost_list)\n",
    "plt.xlabel('Iterations')\n",
    "plt.ylabel('Cost')\n",
    "plt.title('Cost Function over Iterations')\n",
    "plt.show()"
   ]
  },
  {
   "cell_type": "code",
   "execution_count": 8,
   "id": "184127db",
   "metadata": {},
   "outputs": [],
   "source": [
    "#According to the above plot we can clearly see loss function value decreases and converging so that we can go to the next prediction steps "
   ]
  },
  {
   "cell_type": "code",
   "execution_count": 9,
   "id": "2435f635",
   "metadata": {},
   "outputs": [],
   "source": [
    "# Predict function\n",
    "def predict(x, w, B):\n",
    "    z = np.dot(x, w) + B\n",
    "    A = sigmoid(z)\n",
    "    return (A >= 0.5).astype(int)\n"
   ]
  },
  {
   "cell_type": "code",
   "execution_count": 10,
   "id": "fe386089",
   "metadata": {},
   "outputs": [],
   "source": [
    "# Predicting on the training data\n",
    "predictions = predict(x, w, B)"
   ]
  },
  {
   "cell_type": "code",
   "execution_count": 11,
   "id": "64a15596",
   "metadata": {},
   "outputs": [
    {
     "name": "stdout",
     "output_type": "stream",
     "text": [
      "First 10 data points (features):\n",
      " [[ 0.09762701]\n",
      " [ 0.43037873]\n",
      " [ 0.20552675]\n",
      " [ 0.08976637]\n",
      " [-0.1526904 ]\n",
      " [ 0.29178823]\n",
      " [-0.12482558]\n",
      " [ 0.783546  ]\n",
      " [ 0.92732552]\n",
      " [-0.23311696]]\n",
      "First 10 true labels:\n",
      " [[1]\n",
      " [1]\n",
      " [1]\n",
      " [1]\n",
      " [0]\n",
      " [1]\n",
      " [0]\n",
      " [1]\n",
      " [1]\n",
      " [0]]\n",
      "First 10 predictions:\n",
      " [[1]\n",
      " [1]\n",
      " [1]\n",
      " [1]\n",
      " [0]\n",
      " [1]\n",
      " [0]\n",
      " [1]\n",
      " [1]\n",
      " [0]]\n",
      "Model accuracy: 93.0%\n"
     ]
    }
   ],
   "source": [
    "# Checking data and predictions\n",
    "print(\"First 10 data points (features):\\n\", x[:10])\n",
    "print(\"First 10 true labels:\\n\", y[:10])\n",
    "print(\"First 10 predictions:\\n\", predictions[:10])\n",
    "\n",
    "# Calculating accuracy\n",
    "accuracy = np.mean(predictions == y) * 100\n",
    "print(f\"Model accuracy: {accuracy}%\")"
   ]
  },
  {
   "cell_type": "code",
   "execution_count": 12,
   "id": "c0267211",
   "metadata": {},
   "outputs": [],
   "source": [
    "# further check the test accuracy using simulated test data\n",
    "# Generate new test data with noise\n",
    "x_test = 2 * np.random.rand(50, 1) - 1  # Test features between -1 and 1\n",
    "y_test = (x_test[:, 0] > 0).astype(int).reshape(-1, 1)  # Test labels: 1 if x > 0 else 0\n",
    "noise_test = np.random.rand(50, 1) < 0.1  # 10% noise\n",
    "y_test = np.logical_xor(y_test, noise_test).astype(int)\n"
   ]
  },
  {
   "cell_type": "code",
   "execution_count": 13,
   "id": "90dcefea",
   "metadata": {},
   "outputs": [
    {
     "name": "stdout",
     "output_type": "stream",
     "text": [
      "Test accuracy: 88.0%\n"
     ]
    }
   ],
   "source": [
    "# Predicting on the test data\n",
    "test_predictions = predict(x_test, w, B)\n",
    "\n",
    "# Calculating test accuracy\n",
    "test_accuracy = np.mean(test_predictions == y_test) * 100\n",
    "print(f\"Test accuracy: {test_accuracy}%\")"
   ]
  },
  {
   "cell_type": "code",
   "execution_count": null,
   "id": "7f74a5d7",
   "metadata": {},
   "outputs": [],
   "source": []
  }
 ],
 "metadata": {
  "kernelspec": {
   "display_name": "Python 3 (ipykernel)",
   "language": "python",
   "name": "python3"
  },
  "language_info": {
   "codemirror_mode": {
    "name": "ipython",
    "version": 3
   },
   "file_extension": ".py",
   "mimetype": "text/x-python",
   "name": "python",
   "nbconvert_exporter": "python",
   "pygments_lexer": "ipython3",
   "version": "3.11.5"
  }
 },
 "nbformat": 4,
 "nbformat_minor": 5
}
